{
 "cells": [
  {
   "cell_type": "markdown",
   "metadata": {},
   "source": [
    "# 0 - Preamble\n",
    "\n",
    "Authors: Long & Klaus\n",
    "\n",
    "\n",
    "# Software Dependencies\n",
    "\n",
    "For the purpose of documenting our work we will write the reports using [Jupyter notebooks](https://jupyter.org/), which are interactive markdown documents and containing executable code.\n",
    "For this project we will use the freely available scientific programming language [Julia](https://julialang.org/), as well as some external libraries:\n",
    "\n",
    "- [IJulia.jl](https://github.com/JuliaLang/IJulia.jl), which provides a Julia kernel for Jupyter notebooks\n",
    "- [WAV.jl](https://github.com/dancasimiro/WAV.jl) for reading and writing WAVE soundfiles\n",
    "- [Plots.jl](https://github.com/JuliaPlots/Plots.jl) for plotting signals, spectrograms and more\n",
    "  - [Plotly.jl](https://github.com/plotly/Plotly.jl) for interactive plots\n",
    "  - [PyPlot.jl](https://github.com/JuliaPy/PyPlot.jl) for static plots and periodograms\n",
    "- [DSP.jl](https://github.com/JuliaDSP/DSP.jl) for windowing and filter functions\n",
    "\n",
    "To install these packages, run the following Cell:"
   ]
  },
  {
   "cell_type": "code",
   "execution_count": null,
   "metadata": {},
   "outputs": [
    {
     "name": "stderr",
     "output_type": "stream",
     "text": [
      "\u001b[1m\u001b[36mINFO: \u001b[39m\u001b[22m\u001b[36mPackage IJulia is already installed\n",
      "\u001b[39m"
     ]
    }
   ],
   "source": [
    "Pkg.add(\"IJulia\")\n",
    "Pkg.add(\"WAV\")\n",
    "Pkg.add(\"Plots\")\n",
    "Pkg.add(\"Plotly\")\n",
    "Pkg.add(\"PyPlot\")\n",
    "Pkg.add(\"DSP\")"
   ]
  },
  {
   "cell_type": "markdown",
   "metadata": {},
   "source": [
    "Further, we provide a Julia file `./JuliaImpl/SSP.jl` containing data types and functions which are shared across different notebooks.\n",
    "For each exercise sheet we put the reusable code into modules `SheetN` living in files `./JuliaImpl/SheetN.jl`."
   ]
  }
 ],
 "metadata": {
  "kernelspec": {
   "display_name": "Julia 0.6.3",
   "language": "julia",
   "name": "julia-0.6"
  },
  "language_info": {
   "file_extension": ".jl",
   "mimetype": "application/julia",
   "name": "julia",
   "version": "0.6.3"
  }
 },
 "nbformat": 4,
 "nbformat_minor": 2
}
