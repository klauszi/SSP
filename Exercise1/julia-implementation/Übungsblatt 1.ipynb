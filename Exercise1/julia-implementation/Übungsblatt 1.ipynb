{
 "cells": [
  {
   "cell_type": "markdown",
   "metadata": {},
   "source": [
    "# Sprach und Signalverarbeitung\n",
    "\n",
    "Für diese Aufgabe verwenden wir die Pakete `WAV` um Klangdateien auszulesen und `Plots` für das Plotten."
   ]
  },
  {
   "cell_type": "code",
   "execution_count": 2,
   "metadata": {},
   "outputs": [],
   "source": [
    "#Pkg.add(\"WAV\")\n",
    "#Pkg.add(\"Plots\")\n",
    "using WAV,Plots"
   ]
  },
  {
   "cell_type": "markdown",
   "metadata": {},
   "source": [
    "Im Folgenden arbeiten wir mit zwei Klangdateien."
   ]
  },
  {
   "cell_type": "code",
   "execution_count": 12,
   "metadata": {},
   "outputs": [],
   "source": [
    "(s1,fs1) = wavread(\"../speech1.wav\");\n",
    "(s2,fs2) = wavread(\"../speech2.wav\");"
   ]
  },
  {
   "cell_type": "markdown",
   "metadata": {},
   "source": [
    "## Aufgabe 1\n",
    "\n",
    "### (a)\n",
    "\n",
    "Die Abtastrate ist der zweite Ausgabeparameter der Funktion `wavread`"
   ]
  },
  {
   "cell_type": "code",
   "execution_count": 9,
   "metadata": {},
   "outputs": [
    {
     "name": "stdout",
     "output_type": "stream",
     "text": [
      "Abtastrate für speech1.wav: 16000.0 Hz\n",
      "Abtastrate für speech2.wav: 16000.0 Hz\n"
     ]
    }
   ],
   "source": [
    "println(\"Abtastrate für speech1.wav: \",fs1,\" Hz\")\n",
    "println(\"Abtastrate für speech2.wav: \",fs2,\" Hz\")"
   ]
  },
  {
   "cell_type": "markdown",
   "metadata": {},
   "source": [
    "# (b)\n",
    "If `s` is a signal with sampling frequency `fs`, then the `i`-th measurement in `s` takes place at time `(i-1)*period_length` where `period_length = 1/fs`.\n",
    "\n",
    "(Note: Indexing of vectors starts at 1 in both Julia and Matlab)"
   ]
  },
  {
   "cell_type": "code",
   "execution_count": 11,
   "metadata": {},
   "outputs": [],
   "source": [
    "v_sample_time1 = (0:(length(s1)-1))/fs1;\n",
    "v_sample_time2 = (0:(length(s2)-1))/fs2;"
   ]
  },
  {
   "cell_type": "code",
   "execution_count": null,
   "metadata": {},
   "outputs": [],
   "source": []
  }
 ],
 "metadata": {
  "kernelspec": {
   "display_name": "Julia 0.6.2",
   "language": "julia",
   "name": "julia-0.6"
  },
  "language_info": {
   "file_extension": ".jl",
   "mimetype": "application/julia",
   "name": "julia",
   "version": "0.6.2"
  }
 },
 "nbformat": 4,
 "nbformat_minor": 2
}
